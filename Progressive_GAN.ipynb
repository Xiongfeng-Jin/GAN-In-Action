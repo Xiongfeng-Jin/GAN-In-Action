{
  "nbformat": 4,
  "nbformat_minor": 0,
  "metadata": {
    "colab": {
      "name": "Progressive GAN.ipynb",
      "provenance": [],
      "collapsed_sections": [],
      "authorship_tag": "ABX9TyNcUY+bt2TXHP1OOIZU9oC4",
      "include_colab_link": true
    },
    "kernelspec": {
      "name": "python3",
      "display_name": "Python 3"
    }
  },
  "cells": [
    {
      "cell_type": "markdown",
      "metadata": {
        "id": "view-in-github",
        "colab_type": "text"
      },
      "source": [
        "<a href=\"https://colab.research.google.com/github/Xiongfeng-Jin/GAN-In-Action/blob/master/Progressive_GAN.ipynb\" target=\"_parent\"><img src=\"https://colab.research.google.com/assets/colab-badge.svg\" alt=\"Open In Colab\"/></a>"
      ]
    },
    {
      "cell_type": "code",
      "metadata": {
        "id": "2T--ojqDGpr3",
        "colab_type": "code",
        "colab": {
          "base_uri": "https://localhost:8080/",
          "height": 80
        },
        "outputId": "d8654c4a-560f-4fd0-c012-e04cc6fc9ba9"
      },
      "source": [
        "import matplotlib.pyplot as plt\n",
        "import tensorflow as tf\n",
        "import tensorflow_hub as hub\n",
        "\n",
        "with tf.Graph().as_default():\n",
        "    # import the progressive GAN from TFHub\n",
        "    module = hub.Module(\"https://tfhub.dev/google/progan-128/1\")\n",
        "    # latent dimension that gets \n",
        "    latent_dim = 512\n",
        "\n",
        "    # Change the seed to get different faces.\n",
        "    latent_vector = tf.random_normal([1, latent_dim], seed=1337)\n",
        "\n",
        "    # Uses module to generate images from the latent space.\n",
        "    interpolated_images = module(latent_vector)\n",
        "\n",
        "    # runs the tensorflow session and gets back the image in shape (1,128,128,3)\n",
        "    with tf.Session() as session:\n",
        "      session.run(tf.global_variables_initializer())\n",
        "      image_out = session.run(interpolated_images)\n",
        "\n",
        "plt.imshow(image_out.reshape(128,128,3))\n",
        "plt.show()"
      ],
      "execution_count": 1,
      "outputs": [
        {
          "output_type": "display_data",
          "data": {
            "text/html": [
              "<p style=\"color: red;\">\n",
              "The default version of TensorFlow in Colab will soon switch to TensorFlow 2.x.<br>\n",
              "We recommend you <a href=\"https://www.tensorflow.org/guide/migrate\" target=\"_blank\">upgrade</a> now \n",
              "or ensure your notebook will continue to use TensorFlow 1.x via the <code>%tensorflow_version 1.x</code> magic:\n",
              "<a href=\"https://colab.research.google.com/notebooks/tensorflow_version.ipynb\" target=\"_blank\">more info</a>.</p>\n"
            ],
            "text/plain": [
              "<IPython.core.display.HTML object>"
            ]
          },
          "metadata": {
            "tags": []
          }
        },
        {
          "output_type": "stream",
          "text": [
            "Using TensorFlow backend.\n"
          ],
          "name": "stderr"
        }
      ]
    }
  ]
}