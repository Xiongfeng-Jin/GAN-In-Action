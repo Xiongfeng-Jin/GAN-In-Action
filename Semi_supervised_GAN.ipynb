{
  "nbformat": 4,
  "nbformat_minor": 0,
  "metadata": {
    "colab": {
      "name": "Semi-supervised GAN.ipynb",
      "provenance": [],
      "authorship_tag": "ABX9TyOZ4htC0nIFobzfnWur2xTN",
      "include_colab_link": true
    },
    "kernelspec": {
      "name": "python3",
      "display_name": "Python 3"
    },
    "accelerator": "GPU"
  },
  "cells": [
    {
      "cell_type": "markdown",
      "metadata": {
        "id": "view-in-github",
        "colab_type": "text"
      },
      "source": [
        "<a href=\"https://colab.research.google.com/github/Xiongfeng-Jin/GAN-In-Action/blob/master/Semi_supervised_GAN.ipynb\" target=\"_parent\"><img src=\"https://colab.research.google.com/assets/colab-badge.svg\" alt=\"Open In Colab\"/></a>"
      ]
    },
    {
      "cell_type": "code",
      "metadata": {
        "id": "HZM1aQ4tb5rN",
        "colab_type": "code",
        "colab": {
          "base_uri": "https://localhost:8080/",
          "height": 80
        },
        "outputId": "f575183e-bf59-4fa8-c9f9-d0c99c8eea81"
      },
      "source": [
        "%matplotlib inline\n",
        "import matplotlib.pyplot as plt\n",
        "import numpy as np\n",
        "from keras import  backend as K\n",
        "from keras.datasets import mnist\n",
        "from keras.layers import  Dense, Flatten, Reshape, Activation, BatchNormalization, Dropout, Input, Concatenate, Lambda\n",
        "from keras.layers.advanced_activations import  LeakyReLU\n",
        "from keras.utils import  to_categorical\n",
        "from keras.models import  Sequential, Model\n",
        "from keras.optimizers import  Adam\n",
        "from keras.layers.convolutional import  Conv2D, Conv2DTranspose"
      ],
      "execution_count": 1,
      "outputs": [
        {
          "output_type": "stream",
          "text": [
            "Using TensorFlow backend.\n"
          ],
          "name": "stderr"
        },
        {
          "output_type": "display_data",
          "data": {
            "text/html": [
              "<p style=\"color: red;\">\n",
              "The default version of TensorFlow in Colab will soon switch to TensorFlow 2.x.<br>\n",
              "We recommend you <a href=\"https://www.tensorflow.org/guide/migrate\" target=\"_blank\">upgrade</a> now \n",
              "or ensure your notebook will continue to use TensorFlow 1.x via the <code>%tensorflow_version 1.x</code> magic:\n",
              "<a href=\"https://colab.research.google.com/notebooks/tensorflow_version.ipynb\" target=\"_blank\">more info</a>.</p>\n"
            ],
            "text/plain": [
              "<IPython.core.display.HTML object>"
            ]
          },
          "metadata": {
            "tags": []
          }
        }
      ]
    },
    {
      "cell_type": "code",
      "metadata": {
        "id": "dcoCVhMjcsF-",
        "colab_type": "code",
        "colab": {}
      },
      "source": [
        "image_rows = 28\n",
        "image_cols = 28\n",
        "channels = 1\n",
        "image_shape = (image_rows,image_cols,channels)\n",
        "z_dim = 100\n",
        "num_classes = 10"
      ],
      "execution_count": 0,
      "outputs": []
    },
    {
      "cell_type": "code",
      "metadata": {
        "id": "nhKYNFEtcwv-",
        "colab_type": "code",
        "colab": {}
      },
      "source": [
        "class Dataset:\n",
        "  def __init__(self,num_labeled):\n",
        "    self.num_labeled = num_labeled\n",
        "    (self.x_train, self.y_train), (self.x_test, self.y_test) = mnist.load_data()\n",
        "\n",
        "    def preprocess_imgs(x):\n",
        "      x = (x.astype(np.float32) - 127.5) / 127.5\n",
        "      x = np.expand_dims(x,axis=3)\n",
        "      return x\n",
        "\n",
        "    def preprocess_labels(y):\n",
        "      return y.reshape(-1,1)\n",
        "\n",
        "    self.x_train = preprocess_imgs(self.x_train)\n",
        "    self.y_train = preprocess_labels(self.y_train)\n",
        "    self.x_test = preprocess_imgs(self.x_test)\n",
        "    self.y_test = preprocess_labels(self.y_test)\n",
        "\n",
        "  def batch_labeled(self,batch_size):\n",
        "    idx = np.random.randint(0,self.num_labeled,batch_size)\n",
        "    imgs = self.x_train[idx]\n",
        "    labels = self.y_train[idx]\n",
        "    return imgs, labels\n",
        "\n",
        "  def batch_unlabeled(self,batch_size):\n",
        "    idx = np.random.randint(self.num_labeled,self.x_train.shape[0],batch_size)\n",
        "    imgs = self.x_train[idx]\n",
        "    return imgs\n",
        "\n",
        "  def training_set(self):\n",
        "    x_train = self.x_train[range(self.num_labeled)]\n",
        "    y_train = self.y_train[range(self.num_labeled)]\n",
        "    return x_train, y_train\n",
        "  \n",
        "  def test_set(self):\n",
        "    return self.x_test, self.y_test\n",
        "\n"
      ],
      "execution_count": 0,
      "outputs": []
    },
    {
      "cell_type": "code",
      "metadata": {
        "id": "5s_zzCYjeb4j",
        "colab_type": "code",
        "colab": {
          "base_uri": "https://localhost:8080/",
          "height": 51
        },
        "outputId": "8eb2f6e6-3b2a-40ea-e178-1949b0166cb5"
      },
      "source": [
        "num_labeled = 100\n",
        "dataset = Dataset(num_labeled)"
      ],
      "execution_count": 4,
      "outputs": [
        {
          "output_type": "stream",
          "text": [
            "Downloading data from https://s3.amazonaws.com/img-datasets/mnist.npz\n",
            "11493376/11490434 [==============================] - 1s 0us/step\n"
          ],
          "name": "stdout"
        }
      ]
    },
    {
      "cell_type": "code",
      "metadata": {
        "id": "fFE8iL2xefQ_",
        "colab_type": "code",
        "colab": {}
      },
      "source": [
        "def build_generator(z_dim):\n",
        "  model = Sequential()\n",
        "  model.add(Dense(256*7*7,input_dim=z_dim))\n",
        "  model.add(Reshape((7,7,256)))\n",
        "  model.add(Conv2DTranspose(128,kernel_size=3,strides=2,padding='same'))\n",
        "  model.add(BatchNormalization())\n",
        "  model.add(LeakyReLU(alpha=0.01))\n",
        "  model.add(Conv2DTranspose(64,kernel_size=3,strides=1,padding='same'))\n",
        "  model.add(BatchNormalization())\n",
        "  model.add(LeakyReLU(alpha=0.01))\n",
        "  model.add(Conv2DTranspose(1,kernel_size=3,strides=2,padding='same'))\n",
        "  model.add(Activation('tanh'))\n",
        "  return model"
      ],
      "execution_count": 0,
      "outputs": []
    },
    {
      "cell_type": "code",
      "metadata": {
        "id": "WsxP5ypxe8T9",
        "colab_type": "code",
        "colab": {}
      },
      "source": [
        "def build_discriminator_net(image_shape):\n",
        "  model = Sequential()\n",
        "  model.add(Conv2D(32,kernel_size=3,strides=2,input_shape=image_shape,padding='same'))\n",
        "  model.add(LeakyReLU(alpha=0.01))\n",
        "  model.add(Conv2D(64,kernel_size=3,strides=2,input_shape=image_shape,padding='same'))\n",
        "  model.add(BatchNormalization())\n",
        "  model.add(LeakyReLU(alpha=0.01))\n",
        "  model.add(Conv2D(128,kernel_size=3,strides=2,input_shape=image_shape,padding='same'))\n",
        "  model.add(BatchNormalization())\n",
        "  model.add(LeakyReLU(alpha=0.01))\n",
        "  model.add(Dropout(0.5))\n",
        "  model.add(Flatten())\n",
        "  model.add(Dense(num_classes))\n",
        "  return model"
      ],
      "execution_count": 0,
      "outputs": []
    },
    {
      "cell_type": "code",
      "metadata": {
        "id": "gjl9YY6Hf0h4",
        "colab_type": "code",
        "colab": {}
      },
      "source": [
        "def build_discriminator_supervised(discriminator_net):\n",
        "  model = Sequential()\n",
        "  model.add(discriminator_net)\n",
        "  model.add(Activation('softmax'))\n",
        "  return model"
      ],
      "execution_count": 0,
      "outputs": []
    },
    {
      "cell_type": "code",
      "metadata": {
        "id": "-CEN7K43jik9",
        "colab_type": "code",
        "colab": {}
      },
      "source": [
        "def build_discriminator_unsupervised(discriminator_net):\n",
        "  model = Sequential()\n",
        "  model.add(discriminator_net)\n",
        "  def predict(x):\n",
        "    prediction = 1.0 - (1.0/(K.sum(K.exp(x),axis=-1,keepdims=True) + 1))\n",
        "    return prediction\n",
        "\n",
        "  model.add(Lambda(predict))\n",
        "  return model"
      ],
      "execution_count": 0,
      "outputs": []
    },
    {
      "cell_type": "code",
      "metadata": {
        "id": "YNARkCTql2Mn",
        "colab_type": "code",
        "colab": {}
      },
      "source": [
        "def build_gan(generator,discriminator):\n",
        "  model = Sequential()\n",
        "  model.add(generator)\n",
        "  model.add(discriminator)\n",
        "  return model"
      ],
      "execution_count": 0,
      "outputs": []
    },
    {
      "cell_type": "code",
      "metadata": {
        "id": "SM2Qtxr_l6XV",
        "colab_type": "code",
        "colab": {
          "base_uri": "https://localhost:8080/",
          "height": 581
        },
        "outputId": "33b3d29c-f08e-4d45-d5f8-2aa9c98f3b14"
      },
      "source": [
        "discriminator_net = build_discriminator_net(image_shape)\n",
        "discriminator_supervised = build_discriminator_supervised(discriminator_net)\n",
        "discriminator_supervised.compile(loss='categorical_crossentropy',metrics=['accuracy'],optimizer=Adam())\n",
        "discriminator_unsupervised = build_discriminator_unsupervised(discriminator_net)\n",
        "discriminator_unsupervised.compile(loss='binary_crossentropy',optimizer=Adam())\n",
        "generator = build_generator(z_dim)\n",
        "discriminator_unsupervised.trainable = False\n",
        "gan = build_gan(generator,discriminator_unsupervised)\n",
        "gan.compile(loss='binary_crossentropy',optimizer=Adam())"
      ],
      "execution_count": 10,
      "outputs": [
        {
          "output_type": "stream",
          "text": [
            "WARNING:tensorflow:From /usr/local/lib/python3.6/dist-packages/keras/backend/tensorflow_backend.py:66: The name tf.get_default_graph is deprecated. Please use tf.compat.v1.get_default_graph instead.\n",
            "\n",
            "WARNING:tensorflow:From /usr/local/lib/python3.6/dist-packages/keras/backend/tensorflow_backend.py:541: The name tf.placeholder is deprecated. Please use tf.compat.v1.placeholder instead.\n",
            "\n",
            "WARNING:tensorflow:From /usr/local/lib/python3.6/dist-packages/keras/backend/tensorflow_backend.py:4432: The name tf.random_uniform is deprecated. Please use tf.random.uniform instead.\n",
            "\n",
            "WARNING:tensorflow:From /usr/local/lib/python3.6/dist-packages/keras/backend/tensorflow_backend.py:190: The name tf.get_default_session is deprecated. Please use tf.compat.v1.get_default_session instead.\n",
            "\n",
            "WARNING:tensorflow:From /usr/local/lib/python3.6/dist-packages/keras/backend/tensorflow_backend.py:197: The name tf.ConfigProto is deprecated. Please use tf.compat.v1.ConfigProto instead.\n",
            "\n",
            "WARNING:tensorflow:From /usr/local/lib/python3.6/dist-packages/keras/backend/tensorflow_backend.py:203: The name tf.Session is deprecated. Please use tf.compat.v1.Session instead.\n",
            "\n",
            "WARNING:tensorflow:From /usr/local/lib/python3.6/dist-packages/keras/backend/tensorflow_backend.py:207: The name tf.global_variables is deprecated. Please use tf.compat.v1.global_variables instead.\n",
            "\n",
            "WARNING:tensorflow:From /usr/local/lib/python3.6/dist-packages/keras/backend/tensorflow_backend.py:216: The name tf.is_variable_initialized is deprecated. Please use tf.compat.v1.is_variable_initialized instead.\n",
            "\n",
            "WARNING:tensorflow:From /usr/local/lib/python3.6/dist-packages/keras/backend/tensorflow_backend.py:223: The name tf.variables_initializer is deprecated. Please use tf.compat.v1.variables_initializer instead.\n",
            "\n",
            "WARNING:tensorflow:From /usr/local/lib/python3.6/dist-packages/keras/backend/tensorflow_backend.py:2041: The name tf.nn.fused_batch_norm is deprecated. Please use tf.compat.v1.nn.fused_batch_norm instead.\n",
            "\n",
            "WARNING:tensorflow:From /usr/local/lib/python3.6/dist-packages/keras/backend/tensorflow_backend.py:148: The name tf.placeholder_with_default is deprecated. Please use tf.compat.v1.placeholder_with_default instead.\n",
            "\n",
            "WARNING:tensorflow:From /usr/local/lib/python3.6/dist-packages/keras/backend/tensorflow_backend.py:3733: calling dropout (from tensorflow.python.ops.nn_ops) with keep_prob is deprecated and will be removed in a future version.\n",
            "Instructions for updating:\n",
            "Please use `rate` instead of `keep_prob`. Rate should be set to `rate = 1 - keep_prob`.\n",
            "WARNING:tensorflow:From /usr/local/lib/python3.6/dist-packages/keras/optimizers.py:793: The name tf.train.Optimizer is deprecated. Please use tf.compat.v1.train.Optimizer instead.\n",
            "\n",
            "WARNING:tensorflow:From /usr/local/lib/python3.6/dist-packages/keras/backend/tensorflow_backend.py:3576: The name tf.log is deprecated. Please use tf.math.log instead.\n",
            "\n",
            "WARNING:tensorflow:From /usr/local/lib/python3.6/dist-packages/tensorflow_core/python/ops/nn_impl.py:183: where (from tensorflow.python.ops.array_ops) is deprecated and will be removed in a future version.\n",
            "Instructions for updating:\n",
            "Use tf.where in 2.0, which has the same broadcast rule as np.where\n"
          ],
          "name": "stdout"
        }
      ]
    },
    {
      "cell_type": "code",
      "metadata": {
        "id": "94kEWbaGnhIM",
        "colab_type": "code",
        "colab": {}
      },
      "source": [
        "supervised_losses = []\n",
        "iteration_checkpoints = []\n",
        "iterations = 8000\n",
        "batch_size = 32\n",
        "sample_interval = 800"
      ],
      "execution_count": 0,
      "outputs": []
    },
    {
      "cell_type": "code",
      "metadata": {
        "id": "u9l02x60oGTX",
        "colab_type": "code",
        "colab": {}
      },
      "source": [
        "def train(interations, batch_size, sample_interval):\n",
        "  real = np.ones((batch_size,1))\n",
        "  fake = np.zeros((batch_size,1))\n",
        "  for iteration in range(interations):\n",
        "    imgs, labels = dataset.batch_labeled(batch_size)\n",
        "    labels = to_categorical(labels,num_classes=num_classes)\n",
        "    imgs_unlabeled = dataset.batch_unlabeled(batch_size)\n",
        "    z = np.random.normal(0,1,(batch_size,z_dim))\n",
        "    gen_imgs = generator.predict(z)\n",
        "    d_loss_supervised, accuracy = discriminator_supervised.train_on_batch(imgs,labels)\n",
        "    d_loss_real = discriminator_unsupervised.train_on_batch(imgs_unlabeled,real)\n",
        "    d_loss_fake = discriminator_unsupervised.train_on_batch(gen_imgs,fake)\n",
        "    d_loss_unsupervised = 0.5*np.add(d_loss_real,d_loss_fake)\n",
        "    z = np.random.normal(0,1,(batch_size,z_dim))\n",
        "    gen_imgs = generator.predict(z)\n",
        "    g_loss = gan.train_on_batch(z,np.ones((batch_size,1)))\n",
        "\n",
        "    if (iteration + 1) % sample_interval == 0:\n",
        "      supervised_losses.append(d_loss_supervised)\n",
        "      iteration_checkpoints.append(iteration + 1)\n",
        "      print(\"%d [D loss supervised: %.4f, acc.: %.2f%%] [D loss unsupervised: %.4f] [G loss: %f]\" % (iteration + 1, d_loss_supervised, 100 * accuracy, d_loss_unsupervised, g_loss))"
      ],
      "execution_count": 0,
      "outputs": []
    },
    {
      "cell_type": "code",
      "metadata": {
        "id": "eYs5iphWq5bW",
        "colab_type": "code",
        "colab": {
          "base_uri": "https://localhost:8080/",
          "height": 377
        },
        "outputId": "8aca9556-99c5-4942-d65a-b5bc17dfc66e"
      },
      "source": [
        "train(iterations, batch_size, sample_interval)"
      ],
      "execution_count": 13,
      "outputs": [
        {
          "output_type": "stream",
          "text": [
            "WARNING:tensorflow:From /usr/local/lib/python3.6/dist-packages/keras/backend/tensorflow_backend.py:1033: The name tf.assign_add is deprecated. Please use tf.compat.v1.assign_add instead.\n",
            "\n",
            "WARNING:tensorflow:From /usr/local/lib/python3.6/dist-packages/keras/backend/tensorflow_backend.py:1020: The name tf.assign is deprecated. Please use tf.compat.v1.assign instead.\n",
            "\n"
          ],
          "name": "stdout"
        },
        {
          "output_type": "stream",
          "text": [
            "/usr/local/lib/python3.6/dist-packages/keras/engine/training.py:493: UserWarning: Discrepancy between trainable weights and collected trainable weights, did you set `model.trainable` without calling `model.compile` after ?\n",
            "  'Discrepancy between trainable weights and collected trainable'\n",
            "/usr/local/lib/python3.6/dist-packages/keras/engine/training.py:493: UserWarning: Discrepancy between trainable weights and collected trainable weights, did you set `model.trainable` without calling `model.compile` after ?\n",
            "  'Discrepancy between trainable weights and collected trainable'\n",
            "/usr/local/lib/python3.6/dist-packages/keras/engine/training.py:493: UserWarning: Discrepancy between trainable weights and collected trainable weights, did you set `model.trainable` without calling `model.compile` after ?\n",
            "  'Discrepancy between trainable weights and collected trainable'\n"
          ],
          "name": "stderr"
        },
        {
          "output_type": "stream",
          "text": [
            "800 [D loss supervised: 0.0007, acc.: 100.00%] [D loss unsupervised: 0.3313] [G loss: 3.318324]\n",
            "1600 [D loss supervised: 0.0016, acc.: 100.00%] [D loss unsupervised: 0.1637] [G loss: 5.748621]\n",
            "2400 [D loss supervised: 0.0004, acc.: 100.00%] [D loss unsupervised: 0.3265] [G loss: 2.815048]\n",
            "3200 [D loss supervised: 0.0003, acc.: 100.00%] [D loss unsupervised: 0.1276] [G loss: 6.211654]\n",
            "4000 [D loss supervised: 0.0002, acc.: 100.00%] [D loss unsupervised: 0.1206] [G loss: 7.882980]\n",
            "4800 [D loss supervised: 0.0003, acc.: 100.00%] [D loss unsupervised: 0.2086] [G loss: 4.512885]\n",
            "5600 [D loss supervised: 0.0005, acc.: 100.00%] [D loss unsupervised: 0.0964] [G loss: 4.592863]\n",
            "6400 [D loss supervised: 0.0001, acc.: 100.00%] [D loss unsupervised: 0.1358] [G loss: 5.158007]\n",
            "7200 [D loss supervised: 0.0000, acc.: 100.00%] [D loss unsupervised: 0.5086] [G loss: 2.312468]\n",
            "8000 [D loss supervised: 0.0006, acc.: 100.00%] [D loss unsupervised: 0.4385] [G loss: 3.665719]\n"
          ],
          "name": "stdout"
        }
      ]
    },
    {
      "cell_type": "code",
      "metadata": {
        "id": "HdUUbxAssXRm",
        "colab_type": "code",
        "colab": {
          "base_uri": "https://localhost:8080/",
          "height": 382
        },
        "outputId": "4919e09b-c107-4dec-c4db-7c726252f97e"
      },
      "source": [
        "losses = np.array(supervised_losses)\n",
        "\n",
        "# Plot Discriminator supervised loss\n",
        "plt.figure(figsize=(15, 5))\n",
        "plt.plot(iteration_checkpoints, losses, label=\"Discriminator loss\")\n",
        "\n",
        "plt.xticks(iteration_checkpoints, rotation=90)\n",
        "\n",
        "plt.title(\"Discriminator – Supervised Loss\")\n",
        "plt.xlabel(\"Iteration\")\n",
        "plt.ylabel(\"Loss\")\n",
        "plt.legend()"
      ],
      "execution_count": 15,
      "outputs": [
        {
          "output_type": "execute_result",
          "data": {
            "text/plain": [
              "<matplotlib.legend.Legend at 0x7f21488cfe10>"
            ]
          },
          "metadata": {
            "tags": []
          },
          "execution_count": 15
        },
        {
          "output_type": "display_data",
          "data": {
            "image/png": "[encoded data removed]",
            "text/plain": [
              "<Figure size 1080x360 with 1 Axes>"
            ]
          },
          "metadata": {
            "tags": []
          }
        }
      ]
    },
    {
      "cell_type": "code",
      "metadata": {
        "id": "-1rXPXitsY6H",
        "colab_type": "code",
        "colab": {
          "base_uri": "https://localhost:8080/",
          "height": 51
        },
        "outputId": "0a1071b1-f7eb-4c7e-dd80-a554d50c6b7c"
      },
      "source": [
        "x, y = dataset.training_set()\n",
        "y = to_categorical(y, num_classes=num_classes)\n",
        "\n",
        "# Compute classification accuracy on the training set\n",
        "_, accuracy = discriminator_supervised.evaluate(x, y)\n",
        "print(\"Training Accuracy: %.2f%%\" % (100 * accuracy))"
      ],
      "execution_count": 16,
      "outputs": [
        {
          "output_type": "stream",
          "text": [
            "100/100 [==============================] - 0s 2ms/step\n",
            "Training Accuracy: 100.00%\n"
          ],
          "name": "stdout"
        }
      ]
    },
    {
      "cell_type": "code",
      "metadata": {
        "id": "l4mx4NhSsaLW",
        "colab_type": "code",
        "colab": {
          "base_uri": "https://localhost:8080/",
          "height": 51
        },
        "outputId": "d1c6e40e-0eef-4aed-bcf0-1bd1dafbd820"
      },
      "source": [
        "x, y = dataset.test_set()\n",
        "y = to_categorical(y, num_classes=num_classes)\n",
        "\n",
        "# Compute classification accuracy on the test set\n",
        "_, accuracy = discriminator_supervised.evaluate(x, y)\n",
        "print(\"Test Accuracy: %.2f%%\" % (100 * accuracy))"
      ],
      "execution_count": 17,
      "outputs": [
        {
          "output_type": "stream",
          "text": [
            "10000/10000 [==============================] - 1s 64us/step\n",
            "Test Accuracy: 91.36%\n"
          ],
          "name": "stdout"
        }
      ]
    },
    {
      "cell_type": "code",
      "metadata": {
        "id": "UcTJrLarsbYj",
        "colab_type": "code",
        "colab": {}
      },
      "source": [
        "# Fully supervised classifier with the same network architecture as the SGAN Discriminator\n",
        "mnist_classifier = build_discriminator_supervised(build_discriminator_net(image_shape))\n",
        "mnist_classifier.compile(loss='categorical_crossentropy',\n",
        "                         metrics=['accuracy'],\n",
        "                         optimizer=Adam())"
      ],
      "execution_count": 0,
      "outputs": []
    },
    {
      "cell_type": "code",
      "metadata": {
        "id": "jtPGmzp5sdby",
        "colab_type": "code",
        "colab": {
          "base_uri": "https://localhost:8080/",
          "height": 1000
        },
        "outputId": "01bb6214-c04f-4239-d1ff-05b6249b6eab"
      },
      "source": [
        "imgs, labels = dataset.training_set()\n",
        "\n",
        "# One-hot encode labels\n",
        "labels = to_categorical(labels, num_classes=num_classes)\n",
        "\n",
        "# Train the classifier\n",
        "training = mnist_classifier.fit(x=imgs,\n",
        "                                y=labels,\n",
        "                                batch_size=32,\n",
        "                                epochs=30,\n",
        "                                verbose=1)\n",
        "losses = training.history['loss']\n",
        "accuracies = training.history['acc']"
      ],
      "execution_count": 20,
      "outputs": [
        {
          "output_type": "stream",
          "text": [
            "Epoch 1/30\n",
            "100/100 [==============================] - 1s 8ms/step - loss: 2.6180 - acc: 0.2200\n",
            "Epoch 2/30\n",
            "100/100 [==============================] - 0s 261us/step - loss: 0.9915 - acc: 0.7500\n",
            "Epoch 3/30\n",
            "100/100 [==============================] - 0s 256us/step - loss: 0.5309 - acc: 0.8300\n",
            "Epoch 4/30\n",
            "100/100 [==============================] - 0s 227us/step - loss: 0.3680 - acc: 0.9000\n",
            "Epoch 5/30\n",
            "100/100 [==============================] - 0s 237us/step - loss: 0.2153 - acc: 0.9700\n",
            "Epoch 6/30\n",
            "100/100 [==============================] - 0s 236us/step - loss: 0.1541 - acc: 0.9500\n",
            "Epoch 7/30\n",
            "100/100 [==============================] - 0s 290us/step - loss: 0.1073 - acc: 0.9900\n",
            "Epoch 8/30\n",
            "100/100 [==============================] - 0s 260us/step - loss: 0.1081 - acc: 0.9900\n",
            "Epoch 9/30\n",
            "100/100 [==============================] - 0s 256us/step - loss: 0.0629 - acc: 1.0000\n",
            "Epoch 10/30\n",
            "100/100 [==============================] - 0s 250us/step - loss: 0.0526 - acc: 0.9900\n",
            "Epoch 11/30\n",
            "100/100 [==============================] - 0s 238us/step - loss: 0.0651 - acc: 0.9900\n",
            "Epoch 12/30\n",
            "100/100 [==============================] - 0s 224us/step - loss: 0.0279 - acc: 1.0000\n",
            "Epoch 13/30\n",
            "100/100 [==============================] - 0s 242us/step - loss: 0.0292 - acc: 0.9900\n",
            "Epoch 14/30\n",
            "100/100 [==============================] - 0s 258us/step - loss: 0.0208 - acc: 1.0000\n",
            "Epoch 15/30\n",
            "100/100 [==============================] - 0s 243us/step - loss: 0.0257 - acc: 1.0000\n",
            "Epoch 16/30\n",
            "100/100 [==============================] - 0s 267us/step - loss: 0.0162 - acc: 1.0000\n",
            "Epoch 17/30\n",
            "100/100 [==============================] - 0s 288us/step - loss: 0.0183 - acc: 0.9900\n",
            "Epoch 18/30\n",
            "100/100 [==============================] - 0s 313us/step - loss: 0.0126 - acc: 1.0000\n",
            "Epoch 19/30\n",
            "100/100 [==============================] - 0s 273us/step - loss: 0.0092 - acc: 1.0000\n",
            "Epoch 20/30\n",
            "100/100 [==============================] - 0s 258us/step - loss: 0.0083 - acc: 1.0000\n",
            "Epoch 21/30\n",
            "100/100 [==============================] - 0s 248us/step - loss: 0.0098 - acc: 1.0000\n",
            "Epoch 22/30\n",
            "100/100 [==============================] - 0s 276us/step - loss: 0.0069 - acc: 1.0000\n",
            "Epoch 23/30\n",
            "100/100 [==============================] - 0s 266us/step - loss: 0.0069 - acc: 1.0000\n",
            "Epoch 24/30\n",
            "100/100 [==============================] - 0s 265us/step - loss: 0.0045 - acc: 1.0000\n",
            "Epoch 25/30\n",
            "100/100 [==============================] - 0s 293us/step - loss: 0.0073 - acc: 1.0000\n",
            "Epoch 26/30\n",
            "100/100 [==============================] - 0s 300us/step - loss: 0.0067 - acc: 1.0000\n",
            "Epoch 27/30\n",
            "100/100 [==============================] - 0s 278us/step - loss: 0.0082 - acc: 1.0000\n",
            "Epoch 28/30\n",
            "100/100 [==============================] - 0s 265us/step - loss: 0.0039 - acc: 1.0000\n",
            "Epoch 29/30\n",
            "100/100 [==============================] - 0s 263us/step - loss: 0.0041 - acc: 1.0000\n",
            "Epoch 30/30\n",
            "100/100 [==============================] - 0s 295us/step - loss: 0.0033 - acc: 1.0000\n"
          ],
          "name": "stdout"
        }
      ]
    },
    {
      "cell_type": "code",
      "metadata": {
        "id": "1JhUmaMnskdO",
        "colab_type": "code",
        "colab": {
          "base_uri": "https://localhost:8080/",
          "height": 353
        },
        "outputId": "6530a2bb-04fa-4f38-d5d6-bb67defd57b4"
      },
      "source": [
        "# Plot classification loss\n",
        "plt.figure(figsize=(10, 5))\n",
        "plt.plot(np.array(losses), label=\"Loss\")\n",
        "plt.title(\"Classification Loss\")\n",
        "plt.legend()"
      ],
      "execution_count": 21,
      "outputs": [
        {
          "output_type": "execute_result",
          "data": {
            "text/plain": [
              "<matplotlib.legend.Legend at 0x7f21232ecf60>"
            ]
          },
          "metadata": {
            "tags": []
          },
          "execution_count": 21
        },
        {
          "output_type": "display_data",
          "data": {
            "image/png": "[encoded data removed]",
            "text/plain": [
              "<Figure size 720x360 with 1 Axes>"
            ]
          },
          "metadata": {
            "tags": []
          }
        }
      ]
    },
    {
      "cell_type": "code",
      "metadata": {
        "id": "XrQvwm0esmaf",
        "colab_type": "code",
        "colab": {
          "base_uri": "https://localhost:8080/",
          "height": 353
        },
        "outputId": "31bfc730-eeca-42bc-f2b0-f0d7c6dfcf15"
      },
      "source": [
        "# Plot classification accuracy\n",
        "plt.figure(figsize=(10, 5))\n",
        "plt.plot(np.array(accuracies), label=\"Accuracy\")\n",
        "plt.title(\"Classification Accuracy\")\n",
        "plt.legend()"
      ],
      "execution_count": 22,
      "outputs": [
        {
          "output_type": "execute_result",
          "data": {
            "text/plain": [
              "<matplotlib.legend.Legend at 0x7f212323b5f8>"
            ]
          },
          "metadata": {
            "tags": []
          },
          "execution_count": 22
        },
        {
          "output_type": "display_data",
          "data": {
            "image/png": "[encoded data removed]",
            "text/plain": [
              "<Figure size 720x360 with 1 Axes>"
            ]
          },
          "metadata": {
            "tags": []
          }
        }
      ]
    },
    {
      "cell_type": "code",
      "metadata": {
        "id": "-2E5w9EysoZ5",
        "colab_type": "code",
        "colab": {
          "base_uri": "https://localhost:8080/",
          "height": 51
        },
        "outputId": "df257116-437b-4bf0-e7a7-7d93de01521f"
      },
      "source": [
        "x, y = dataset.training_set()\n",
        "y = to_categorical(y, num_classes=num_classes)\n",
        "\n",
        "# Compute classification accuracy on the training set\n",
        "_, accuracy = mnist_classifier.evaluate(x, y)\n",
        "print(\"Training Accuracy: %.2f%%\" % (100 * accuracy))"
      ],
      "execution_count": 23,
      "outputs": [
        {
          "output_type": "stream",
          "text": [
            "100/100 [==============================] - 0s 2ms/step\n",
            "Training Accuracy: 100.00%\n"
          ],
          "name": "stdout"
        }
      ]
    },
    {
      "cell_type": "code",
      "metadata": {
        "id": "wDIfaWEmspxq",
        "colab_type": "code",
        "colab": {
          "base_uri": "https://localhost:8080/",
          "height": 51
        },
        "outputId": "f772e218-b13d-442c-c4db-aa15c27ad83d"
      },
      "source": [
        "x, y = dataset.test_set()\n",
        "y = to_categorical(y, num_classes=num_classes)\n",
        "\n",
        "# Compute classification accuracy on the test set\n",
        "_, accuracy = mnist_classifier.evaluate(x, y)\n",
        "print(\"Test Accuracy: %.2f%%\" % (100 * accuracy))"
      ],
      "execution_count": 24,
      "outputs": [
        {
          "output_type": "stream",
          "text": [
            "10000/10000 [==============================] - 1s 67us/step\n",
            "Test Accuracy: 70.87%\n"
          ],
          "name": "stdout"
        }
      ]
    },
    {
      "cell_type": "code",
      "metadata": {
        "id": "va0zLs6PsrIt",
        "colab_type": "code",
        "colab": {}
      },
      "source": [
        ""
      ],
      "execution_count": 0,
      "outputs": []
    }
  ]
}